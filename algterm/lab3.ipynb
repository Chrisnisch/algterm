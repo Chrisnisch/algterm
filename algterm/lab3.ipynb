{
 "cells": [
  {
   "cell_type": "code",
   "id": "initial_id",
   "metadata": {
    "collapsed": true,
    "ExecuteTime": {
     "end_time": "2024-12-15T00:09:31.784809Z",
     "start_time": "2024-12-15T00:09:31.508325Z"
    }
   },
   "source": "import sympy",
   "outputs": [],
   "execution_count": 2
  },
  {
   "metadata": {
    "ExecuteTime": {
     "end_time": "2024-12-15T00:09:31.795941Z",
     "start_time": "2024-12-15T00:09:31.785886Z"
    }
   },
   "cell_type": "code",
   "source": [
    "def func(x_1: float, x_2: float):\n",
    "    return x_1 ** 2 + 2 * x_2 + 3"
   ],
   "id": "25c6019090310ecf",
   "outputs": [],
   "execution_count": 3
  },
  {
   "metadata": {
    "ExecuteTime": {
     "end_time": "2024-12-15T00:09:31.829557Z",
     "start_time": "2024-12-15T00:09:31.796221Z"
    }
   },
   "cell_type": "code",
   "source": [
    "x_1 = sympy.Symbol(\"x_1\")\n",
    "x_2 = sympy.Symbol(\"x_2\")\n",
    "x_3 = sympy.Symbol(\"x_3\")\n",
    "expr = func(x_1, x_2) + x_3 ** 2 - x_2"
   ],
   "id": "f53e13d74996888",
   "outputs": [],
   "execution_count": 4
  },
  {
   "metadata": {
    "ExecuteTime": {
     "end_time": "2024-12-15T00:09:31.840564Z",
     "start_time": "2024-12-15T00:09:31.830741Z"
    }
   },
   "cell_type": "code",
   "source": "expr",
   "id": "6d4d4b59030d658e",
   "outputs": [
    {
     "data": {
      "text/plain": [
       "x_1**2 + x_2 + x_3**2 + 3"
      ],
      "text/latex": "$\\displaystyle x_{1}^{2} + x_{2} + x_{3}^{2} + 3$"
     },
     "execution_count": 5,
     "metadata": {},
     "output_type": "execute_result"
    }
   ],
   "execution_count": 5
  },
  {
   "metadata": {
    "ExecuteTime": {
     "end_time": "2024-12-15T00:09:31.851628Z",
     "start_time": "2024-12-15T00:09:31.841283Z"
    }
   },
   "cell_type": "code",
   "source": "sympy.latex(expr)",
   "id": "b457a07e8c27d663",
   "outputs": [
    {
     "data": {
      "text/plain": [
       "'x_{1}^{2} + x_{2} + x_{3}^{2} + 3'"
      ]
     },
     "execution_count": 6,
     "metadata": {},
     "output_type": "execute_result"
    }
   ],
   "execution_count": 6
  },
  {
   "metadata": {
    "ExecuteTime": {
     "end_time": "2024-12-15T00:09:31.867041Z",
     "start_time": "2024-12-15T00:09:31.852850Z"
    }
   },
   "cell_type": "code",
   "source": [
    "expr1 = sympy.Expr(\"x + y^{2} - 1\")\n",
    "expr2 = sympy.Expr(\"(z - w + 2x) * x\")"
   ],
   "id": "19680cfedca47ba5",
   "outputs": [],
   "execution_count": 7
  },
  {
   "metadata": {
    "ExecuteTime": {
     "end_time": "2024-12-15T00:09:36.040516Z",
     "start_time": "2024-12-15T00:09:36.035140Z"
    }
   },
   "cell_type": "code",
   "source": "expr1",
   "id": "375627837f96f6de",
   "outputs": [
    {
     "data": {
      "text/plain": [
       "Expr(x + y^{2} - 1)"
      ],
      "text/latex": "$\\displaystyle \\operatorname{Expr}\\left(\\mathtt{\\text{x + y\\textasciicircum\\{2\\} - 1}}\\right)$"
     },
     "execution_count": 8,
     "metadata": {},
     "output_type": "execute_result"
    }
   ],
   "execution_count": 8
  },
  {
   "metadata": {},
   "cell_type": "code",
   "outputs": [],
   "execution_count": null,
   "source": "",
   "id": "15f3b44b609b41dc"
  }
 ],
 "metadata": {
  "kernelspec": {
   "display_name": "Python 3",
   "language": "python",
   "name": "python3"
  },
  "language_info": {
   "codemirror_mode": {
    "name": "ipython",
    "version": 2
   },
   "file_extension": ".py",
   "mimetype": "text/x-python",
   "name": "python",
   "nbconvert_exporter": "python",
   "pygments_lexer": "ipython2",
   "version": "2.7.6"
  }
 },
 "nbformat": 4,
 "nbformat_minor": 5
}
