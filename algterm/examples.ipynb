{
 "cells": [
  {
   "cell_type": "code",
   "id": "initial_id",
   "metadata": {
    "collapsed": true,
    "ExecuteTime": {
     "end_time": "2024-12-15T21:18:20.347086Z",
     "start_time": "2024-12-15T21:18:20.082925Z"
    }
   },
   "source": "from algtermlib.algterm import Term, simp",
   "outputs": [],
   "execution_count": 1
  },
  {
   "metadata": {
    "ExecuteTime": {
     "end_time": "2024-12-15T21:18:20.354274Z",
     "start_time": "2024-12-15T21:18:20.348087Z"
    }
   },
   "cell_type": "code",
   "source": [
    "# some greeks letters for us: α β γ λ π\n",
    "\n",
    "x = Term('x')  # терм-переменная x\n",
    "y = Term('y')  # терм-переменная y\n",
    "alpha = Term('α')  # терм-константа α\n",
    "func_f = Term('f(x, y, α)')  # терм-функция f\n",
    "func_f_1 = Term('f_1(a, b, g(a, b, x))')  # терм-функция f_1 зависящий от функции\n",
    "\n",
    "print('=====Examples creating terms and building expressions with them=====')\n",
    "print(alpha + x * y)\n",
    "print(alpha + x * 2 + y)\n",
    "print(alpha ** 2 + x + y ** 2 * 2)\n",
    "print(alpha * func_f ** 2 + x + y)\n",
    "print(func_f_1)"
   ],
   "id": "fd62885607585da4",
   "outputs": [
    {
     "name": "stdout",
     "output_type": "stream",
     "text": [
      "=====Examples creating terms and building expressions with them=====\n",
      "α + x * y\n",
      "α + x * 2 + y\n",
      "α ^ 2 + x + y ^ 2 * 2\n",
      "α * f(x, y, α) ^ 2 + x + y\n",
      "f_1(a, b, g(a, b, x))\n"
     ]
    }
   ],
   "execution_count": 2
  },
  {
   "metadata": {
    "ExecuteTime": {
     "end_time": "2024-12-15T21:18:20.361990Z",
     "start_time": "2024-12-15T21:18:20.355305Z"
    }
   },
   "cell_type": "code",
   "source": [
    "print('=====Examples for setting expression to function=====')\n",
    "\n",
    "func_f.set_expression(alpha ** 2 + x + y ** 2 * 2)\n",
    "print(f'Сигнатура функции f: {func_f}')\n",
    "print(f'Выражение для функции f: {func_f.expression}')\n",
    "\n",
    "expr = x * y + alpha\n",
    "print(f'Построенное выражение типа Expression: {expr}')"
   ],
   "id": "95c8ee6e565fe1db",
   "outputs": [
    {
     "name": "stdout",
     "output_type": "stream",
     "text": [
      "=====Examples for setting expression to function=====\n",
      "Сигнатура функции f: f(x, y, α)\n",
      "Выражение для функции f: α ^ 2 + x + y ^ 2 * 2\n",
      "Построенное выражение типа Expression: x * y + α\n"
     ]
    }
   ],
   "execution_count": 3
  },
  {
   "metadata": {
    "ExecuteTime": {
     "end_time": "2024-12-15T21:18:20.370738Z",
     "start_time": "2024-12-15T21:18:20.362213Z"
    }
   },
   "cell_type": "code",
   "source": [
    "print('=====Examples for copy=====')\n",
    "func_g = func_f.copy()\n",
    "func_g.set_symbol('g(x, y, α)')\n",
    "x_1 = x.copy()\n",
    "x_1.set_symbol('x_1')\n",
    "\n",
    "print(f'Сигнатура функции g: {func_g}')\n",
    "print(f'Выражение для функции g: {func_g.expression}')\n",
    "if id(x_1) == id(x) or id(func_g) == id(func_f):\n",
    "    print('Объекты не копируются правильно!')\n",
    "else: \n",
    "    print('Копии термов создаются правильно')"
   ],
   "id": "e4180b297d8a8b57",
   "outputs": [
    {
     "name": "stdout",
     "output_type": "stream",
     "text": [
      "=====Examples for copy=====\n",
      "Сигнатура функции g: g(x, y, α)\n",
      "Выражение для функции g: α ^ 2 + x + y ^ 2 * 2\n",
      "Копии термов создаются правильно\n"
     ]
    }
   ],
   "execution_count": 4
  },
  {
   "metadata": {
    "ExecuteTime": {
     "end_time": "2024-12-15T21:18:20.381854Z",
     "start_time": "2024-12-15T21:18:20.371984Z"
    }
   },
   "cell_type": "code",
   "source": [
    "print('=====Examples for operations priority is reading normal=====')\n",
    "expr1 = alpha * (x + y) + (x + alpha * y) ** 2\n",
    "expr2 = (x**2 + x * 2 * y + y**2) / (x + y)\n",
    "print(f'Первое выражение: {expr1}')\n",
    "print(f'Второе выражение: {expr2}')"
   ],
   "id": "7e9e95c5f3ca0872",
   "outputs": [
    {
     "name": "stdout",
     "output_type": "stream",
     "text": [
      "=====Examples for operations priority is reading normal=====\n",
      "Первое выражение: α * (x + y) + (x + α * y) ^ 2\n",
      "Второе выражение: (x ^ 2 + x * 2 * y + y ^ 2) / (x + y)\n"
     ]
    }
   ],
   "execution_count": 5
  },
  {
   "metadata": {
    "ExecuteTime": {
     "end_time": "2024-12-15T21:18:20.426365Z",
     "start_time": "2024-12-15T21:18:20.382106Z"
    }
   },
   "cell_type": "code",
   "source": [
    "print('=====Examples for simplifying expressions=====')\n",
    "expr3 = alpha * (x + y) + (x + alpha * y) ** 2\n",
    "expr4 = (x ** 2 + x * 2 * y + y ** 2) / (x + y)\n",
    "func_g.set_expression(expr4)\n",
    "expr5 = func_g.expression ** 2 + func_f.expression + alpha ** 2\n",
    "\n",
    "print(f'Изначальное выражение: {expr3}\\nУпрощенное выражение: {simp(expr3)}\\n')\n",
    "print(f'Изначальное выражение: {expr4}\\nУпрощенное выражение: {simp(expr4)}\\n')\n",
    "print(f'Изначальное выражение: {expr5}\\nУпрощенное выражение: {simp(expr5)}\\n')"
   ],
   "id": "21df4098c99ff093",
   "outputs": [
    {
     "name": "stdout",
     "output_type": "stream",
     "text": [
      "=====Examples for simplifying expressions=====\n",
      "Изначальное выражение: α * (x + y) + (x + α * y) ^ 2\n",
      "Упрощенное выражение: x^2 + 2*x*y*α + x*α + y^2*α^2 + y*α\n",
      "\n",
      "Изначальное выражение: (x ^ 2 + x * 2 * y + y ^ 2) / (x + y)\n",
      "Упрощенное выражение: x + y\n",
      "\n",
      "Изначальное выражение: ((x ^ 2 + x * 2 * y + y ^ 2) / (x + y)) ^ 2 + (α ^ 2 + x + y ^ 2 * 2) + α ^ 2\n",
      "Упрощенное выражение: x^2 + 2*x*y + x + 3*y^2 + 2*α^2\n",
      "\n"
     ]
    }
   ],
   "execution_count": 6
  }
 ],
 "metadata": {
  "kernelspec": {
   "display_name": "Python [conda env:my_env] *",
   "language": "python",
   "name": "conda-env-my_env-py"
  },
  "language_info": {
   "codemirror_mode": {
    "name": "ipython",
    "version": 2
   },
   "file_extension": ".py",
   "mimetype": "text/x-python",
   "name": "python",
   "nbconvert_exporter": "python",
   "pygments_lexer": "ipython2",
   "version": "2.7.6"
  }
 },
 "nbformat": 4,
 "nbformat_minor": 5
}
