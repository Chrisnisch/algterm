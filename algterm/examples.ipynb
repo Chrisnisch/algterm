{
 "cells": [
  {
   "cell_type": "code",
   "id": "initial_id",
   "metadata": {
    "collapsed": true,
    "ExecuteTime": {
     "end_time": "2024-12-15T16:38:37.091878Z",
     "start_time": "2024-12-15T16:38:37.069722Z"
    }
   },
   "source": [
    "from core import Term\n",
    "import sympy"
   ],
   "outputs": [],
   "execution_count": 16
  },
  {
   "metadata": {
    "ExecuteTime": {
     "end_time": "2024-12-15T16:38:37.108584Z",
     "start_time": "2024-12-15T16:38:37.091971Z"
    }
   },
   "cell_type": "code",
   "source": [
    "# x = sympy.Symbol('x')\n",
    "# y = sympy.Symbol('y')\n",
    "# z = sympy.Symbol('z')"
   ],
   "id": "9bef896e406f7284",
   "outputs": [],
   "execution_count": 17
  },
  {
   "metadata": {
    "ExecuteTime": {
     "end_time": "2024-12-15T16:38:37.125218Z",
     "start_time": "2024-12-15T16:38:37.108651Z"
    }
   },
   "cell_type": "code",
   "source": [
    "# P = x**2 + 2 * y * z + 10 * x * z**2 + 20 * z**2\n",
    "# Q = x**2 + 2 * y * z + 10 * x * z**2 + 20 * z**2 + 100 * x**2"
   ],
   "id": "ede5c6149173cc97",
   "outputs": [],
   "execution_count": 18
  },
  {
   "metadata": {
    "ExecuteTime": {
     "end_time": "2024-12-15T16:38:37.141869Z",
     "start_time": "2024-12-15T16:38:37.125272Z"
    }
   },
   "cell_type": "code",
   "source": [
    "# x_1 = core.Term('x_1')\n",
    "# x_2 = core.Term('x_2')\n",
    "# alpha = core.Term('α')\n",
    "# beta = core.Term('β')\n",
    "# func_f = core.Term('f(x_1, x_2, α, β)', expr=(x_1 + x_2 + x_1**2 + x_2**2 + alpha*x_1 + beta*x_1))"
   ],
   "id": "99e04bead868603c",
   "outputs": [],
   "execution_count": 19
  },
  {
   "metadata": {
    "ExecuteTime": {
     "end_time": "2024-12-15T16:38:37.158586Z",
     "start_time": "2024-12-15T16:38:37.141869Z"
    }
   },
   "cell_type": "code",
   "source": "# print(f'{x_1}\\n{x_2}\\n{alpha}\\n{beta}\\n{func_f}\\n{func_f.expression}')",
   "id": "370018f12be9b591",
   "outputs": [],
   "execution_count": 20
  },
  {
   "metadata": {
    "ExecuteTime": {
     "end_time": "2024-12-15T16:38:37.175267Z",
     "start_time": "2024-12-15T16:38:37.158586Z"
    }
   },
   "cell_type": "code",
   "source": "# sympy.ratsimp(str(func_f.expression))",
   "id": "ff99c4224c6eb58d",
   "outputs": [],
   "execution_count": 21
  },
  {
   "metadata": {
    "ExecuteTime": {
     "end_time": "2024-12-15T16:38:37.191835Z",
     "start_time": "2024-12-15T16:38:37.175267Z"
    }
   },
   "cell_type": "code",
   "source": [
    "# some greeks letters for us: α β γ λ π\n",
    "\n",
    "x = Term('x')  # терм-переменная x\n",
    "y = Term('y')  # терм-переменная y\n",
    "alpha = Term('α')  # терм-константа α\n",
    "func_f = Term('f(x, y, α)')  # терм-функция f\n",
    "\n",
    "print('=====Tests creating terms and building expressions with them=====')\n",
    "print(alpha + x * y)\n",
    "print(alpha + x * 2 + y)\n",
    "print(alpha ** 2 + x + y ** 2 * 2)  # если в умножении число перед термом поставить ломается\n",
    "print(alpha * func_f ** 2 + x + y)"
   ],
   "id": "fd62885607585da4",
   "outputs": [
    {
     "name": "stdout",
     "output_type": "stream",
     "text": [
      "=====Tests creating terms and building expressions with them=====\n",
      "α + x * y\n",
      "α + x * 2 + y\n",
      "α^2 + x + y^2 * 2\n",
      "α * f(x, y, α)^2 + x + y\n"
     ]
    }
   ],
   "execution_count": 22
  },
  {
   "metadata": {
    "ExecuteTime": {
     "end_time": "2024-12-15T16:38:37.208572Z",
     "start_time": "2024-12-15T16:38:37.191929Z"
    }
   },
   "cell_type": "code",
   "source": [
    "print('=====Tests for setting expression to function=====')\n",
    "\n",
    "func_f.set_expression(alpha ** 2 + x + y ** 2 * 2)\n",
    "print(f'Сигнатура функции f: {func_f}')\n",
    "print(f'Выражение для функции f: {func_f.expression}')\n",
    "\n",
    "expr = x * y + alpha\n",
    "print(f'Построенное выражение типа Expression: {expr}')"
   ],
   "id": "95c8ee6e565fe1db",
   "outputs": [
    {
     "name": "stdout",
     "output_type": "stream",
     "text": [
      "=====Tests for setting expression to function=====\n",
      "Сигнатура функции f: f(x, y, α)\n",
      "Выражение для функции f: α^2 + x + y^2 * 2\n",
      "Построенное выражение типа Expression: x * y + α\n"
     ]
    }
   ],
   "execution_count": 23
  },
  {
   "metadata": {
    "ExecuteTime": {
     "end_time": "2024-12-15T16:38:37.225301Z",
     "start_time": "2024-12-15T16:38:37.208635Z"
    }
   },
   "cell_type": "code",
   "source": [
    "print('=====Tests for copy=====')\n",
    "func_g = func_f.copy()\n",
    "func_g.set_symbol('g(x, y, α)')\n",
    "x_1 = x.copy()\n",
    "x_1.set_symbol('x_1')\n",
    "\n",
    "print(f'Сигнатура функции g: {func_g}')\n",
    "print(f'Выражение для функции g: {func_g.expression}')\n",
    "if id(x_1) == id(x) or id(func_g) == id(func_f):\n",
    "    print('Объекты не копируются правильно!')\n",
    "else: \n",
    "    print('Копии термов создаются правильно')"
   ],
   "id": "e4180b297d8a8b57",
   "outputs": [
    {
     "name": "stdout",
     "output_type": "stream",
     "text": [
      "=====Tests for copy=====\n",
      "Сигнатура функции g: g(x, y, α)\n",
      "Выражение для функции g: α^2 + x + y^2 * 2\n",
      "Копии термов создаются правильно\n"
     ]
    }
   ],
   "execution_count": 24
  },
  {
   "metadata": {
    "ExecuteTime": {
     "end_time": "2024-12-15T16:38:37.241869Z",
     "start_time": "2024-12-15T16:38:37.225362Z"
    }
   },
   "cell_type": "code",
   "source": [
    "print('=====Tests for operations priority=====')\n",
    "\n",
    "expr = (x + y) * alpha + (x + alpha)**2\n",
    "print(expr)  # не корректно"
   ],
   "id": "7e9e95c5f3ca0872",
   "outputs": [
    {
     "name": "stdout",
     "output_type": "stream",
     "text": [
      "=====Tests for operations priority=====\n",
      "x + y * α + (x + α)^2\n"
     ]
    }
   ],
   "execution_count": 25
  },
  {
   "metadata": {
    "ExecuteTime": {
     "end_time": "2024-12-15T16:38:37.258634Z",
     "start_time": "2024-12-15T16:38:37.241930Z"
    }
   },
   "cell_type": "code",
   "source": "",
   "id": "21df4098c99ff093",
   "outputs": [],
   "execution_count": 25
  }
 ],
 "metadata": {
  "kernelspec": {
   "display_name": "Python [conda env:my_env] *",
   "language": "python",
   "name": "conda-env-my_env-py"
  },
  "language_info": {
   "codemirror_mode": {
    "name": "ipython",
    "version": 2
   },
   "file_extension": ".py",
   "mimetype": "text/x-python",
   "name": "python",
   "nbconvert_exporter": "python",
   "pygments_lexer": "ipython2",
   "version": "2.7.6"
  }
 },
 "nbformat": 4,
 "nbformat_minor": 5
}
